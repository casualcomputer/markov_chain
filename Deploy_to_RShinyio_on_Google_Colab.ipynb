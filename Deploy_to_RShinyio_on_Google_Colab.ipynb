{
  "nbformat": 4,
  "nbformat_minor": 0,
  "metadata": {
    "colab": {
      "provenance": []
    },
    "kernelspec": {
      "name": "ir",
      "display_name": "R"
    },
    "language_info": {
      "name": "R"
    }
  },
  "cells": [
    {
      "cell_type": "markdown",
      "source": [
        "# Download project folder (git clone equivalent in Colab's R runtime)"
      ],
      "metadata": {
        "id": "QmEDTLqCNVcZ"
      }
    },
    {
      "cell_type": "code",
      "source": [
        "# download the github repo as a .zip file\n",
        "# Get repo URL: go to your repo's main page -> \"<> Code\" ->  right click \"Download zip\"\" -> click \"Copy Link\")\n",
        "download.file(url = \"https://github.com/casualcomputer/markov_chain/archive/refs/heads/main.zip\"\n",
        "                                   , destfile = \"markov_chain.zip\")\n",
        "\n",
        "# unzip the .zip file\n",
        "unzip(zipfile = \"markov_chain.zip\")"
      ],
      "metadata": {
        "id": "_-T9LOVVL6V_"
      },
      "execution_count": 1,
      "outputs": []
    },
    {
      "cell_type": "code",
      "source": [
        "# system('sudo apt install libudunits2-dev')"
      ],
      "metadata": {
        "id": "26eUA4hKP1pm"
      },
      "execution_count": 2,
      "outputs": []
    },
    {
      "cell_type": "code",
      "source": [
        "install.packages('rsconnect')"
      ],
      "metadata": {
        "colab": {
          "base_uri": "https://localhost:8080/"
        },
        "id": "sRO8BSLzULxy",
        "outputId": "8e458bd6-46a4-450c-ff72-4b664c167491"
      },
      "execution_count": null,
      "outputs": [
        {
          "output_type": "stream",
          "name": "stderr",
          "text": [
            "Installing package into ‘/usr/local/lib/R/site-library’\n",
            "(as ‘lib’ is unspecified)\n",
            "\n",
            "also installing the dependencies ‘PKI’, ‘packrat’, ‘renv’\n",
            "\n",
            "\n"
          ]
        }
      ]
    },
    {
      "cell_type": "markdown",
      "source": [
        "# Deploy the app to RShiny"
      ],
      "metadata": {
        "id": "GKKHyqBeUcLc"
      }
    },
    {
      "cell_type": "code",
      "source": [
        "library(rsconnect)\n",
        "rsconnect::setAccountInfo(name='whatisup',\n",
        "                          token='6026F6A36D6E56583865D56F3388EA47',\n",
        "                          secret= read.table(\"/content/shiny_deploy_secret.txt\")[1,1] ) #upload a .txt file with the rshinysecret for deployment (to \"/content\" folder)\n",
        "rsconnect::deployApp('markov_chain-main')"
      ],
      "metadata": {
        "id": "8JIU6AZDVLQf"
      },
      "execution_count": null,
      "outputs": []
    }
  ]
}